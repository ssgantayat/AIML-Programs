{
  "nbformat_minor": 0,
  "metadata": {
    "kernelspec": {
      "language": "python",
      "display_name": "Python 3",
      "name": "python3"
    },
    "language_info": {
      "version": "3.6.3",
      "pygments_lexer": "ipython3",
      "nbconvert_exporter": "python",
      "mimetype": "text/x-python",
      "codemirror_mode": {
        "version": 3,
        "name": "ipython"
      },
      "name": "python",
      "file_extension": ".py"
    },
    "colab": {
      "name": "USA Housing - Machine Learning(Linear Regression)",
      "provenance": [],
      "include_colab_link": true
    }
  },
  "cells": [
    {
      "cell_type": "markdown",
      "metadata": {
        "id": "view-in-github",
        "colab_type": "text"
      },
      "source": [
        "<a href=\"https://colab.research.google.com/github/ssgantayat/AIML-Programs/blob/main/Lab04_USA_Housing_Machine_Learning(Linear_Regression).ipynb\" target=\"_parent\"><img src=\"https://colab.research.google.com/assets/colab-badge.svg\" alt=\"Open In Colab\"/></a>"
      ]
    },
    {
      "source": [
        "# IMPORTANT: RUN THIS CELL IN ORDER TO IMPORT YOUR KAGGLE DATA SOURCES\n",
        "# TO THE CORRECT LOCATION (/kaggle/input) IN YOUR NOTEBOOK,\n",
        "# THEN FEEL FREE TO DELETE THIS CELL.\n",
        "# NOTE: THIS NOTEBOOK ENVIRONMENT DIFFERS FROM KAGGLE'S PYTHON\n",
        "# ENVIRONMENT SO THERE MAY BE MISSING LIBRARIES USED BY YOUR\n",
        "# NOTEBOOK.\n",
        "\n",
        "import os\n",
        "import sys\n",
        "from tempfile import NamedTemporaryFile\n",
        "from urllib.request import urlopen\n",
        "from urllib.parse import unquote, urlparse\n",
        "from urllib.error import HTTPError\n",
        "from zipfile import ZipFile\n",
        "import tarfile\n",
        "import shutil\n",
        "\n",
        "CHUNK_SIZE = 40960\n",
        "DATA_SOURCE_MAPPING = ':https%3A%2F%2Fstorage.googleapis.com%2Fkaggle-data-sets%2F7039%2F10115%2Fbundle%2Farchive.zip%3FX-Goog-Algorithm%3DGOOG4-RSA-SHA256%26X-Goog-Credential%3Dgcp-kaggle-com%2540kaggle-161607.iam.gserviceaccount.com%252F20240830%252Fauto%252Fstorage%252Fgoog4_request%26X-Goog-Date%3D20240830T041708Z%26X-Goog-Expires%3D259200%26X-Goog-SignedHeaders%3Dhost%26X-Goog-Signature%3D0d0c588665a1b9d566119bd30d063696befede50443249d3e8de5290e376099a4c59f29cc466bea9a01ab2daee55291751cbc42531fdb6d87f3fa4f4606a7805edba2d4db7e8891e1848bf385a82ffd55836d99d45996981571a913aa13783264a61b512c62ea43152154e7e27928fdcafe9b048c95c5bb99ae88958d41490327db267ad7cbd1cd1c76761abb0100f638c2cd7f811c3bd8a59a310ee1f596cf3bfd4a460568541f2515b5d41030f6ecc1ec35e43906bc658b37b63d8530b3a35988a08bc5454398fcf99bf414e44721537e6a09117d361b425b700f7ed571aa21377024a1fd619f84bb7f792843e44cb48d4d6564ed1128c42e7d5cf18206194'\n",
        "\n",
        "KAGGLE_INPUT_PATH='/kaggle/input'\n",
        "KAGGLE_WORKING_PATH='/kaggle/working'\n",
        "KAGGLE_SYMLINK='kaggle'\n",
        "\n",
        "!umount /kaggle/input/ 2> /dev/null\n",
        "shutil.rmtree('/kaggle/input', ignore_errors=True)\n",
        "os.makedirs(KAGGLE_INPUT_PATH, 0o777, exist_ok=True)\n",
        "os.makedirs(KAGGLE_WORKING_PATH, 0o777, exist_ok=True)\n",
        "\n",
        "try:\n",
        "  os.symlink(KAGGLE_INPUT_PATH, os.path.join(\"..\", 'input'), target_is_directory=True)\n",
        "except FileExistsError:\n",
        "  pass\n",
        "try:\n",
        "  os.symlink(KAGGLE_WORKING_PATH, os.path.join(\"..\", 'working'), target_is_directory=True)\n",
        "except FileExistsError:\n",
        "  pass\n",
        "\n",
        "for data_source_mapping in DATA_SOURCE_MAPPING.split(','):\n",
        "    directory, download_url_encoded = data_source_mapping.split(':')\n",
        "    download_url = unquote(download_url_encoded)\n",
        "    filename = urlparse(download_url).path\n",
        "    destination_path = os.path.join(KAGGLE_INPUT_PATH, directory)\n",
        "    try:\n",
        "        with urlopen(download_url) as fileres, NamedTemporaryFile() as tfile:\n",
        "            total_length = fileres.headers['content-length']\n",
        "            print(f'Downloading {directory}, {total_length} bytes compressed')\n",
        "            dl = 0\n",
        "            data = fileres.read(CHUNK_SIZE)\n",
        "            while len(data) > 0:\n",
        "                dl += len(data)\n",
        "                tfile.write(data)\n",
        "                done = int(50 * dl / int(total_length))\n",
        "                sys.stdout.write(f\"\\r[{'=' * done}{' ' * (50-done)}] {dl} bytes downloaded\")\n",
        "                sys.stdout.flush()\n",
        "                data = fileres.read(CHUNK_SIZE)\n",
        "            if filename.endswith('.zip'):\n",
        "              with ZipFile(tfile) as zfile:\n",
        "                zfile.extractall(destination_path)\n",
        "            else:\n",
        "              with tarfile.open(tfile.name) as tarfile:\n",
        "                tarfile.extractall(destination_path)\n",
        "            print(f'\\nDownloaded and uncompressed: {directory}')\n",
        "    except HTTPError as e:\n",
        "        print(f'Failed to load (likely expired) {download_url} to path {destination_path}')\n",
        "        continue\n",
        "    except OSError as e:\n",
        "        print(f'Failed to load {download_url} to path {destination_path}')\n",
        "        continue\n",
        "\n",
        "print('Data source import complete.')\n"
      ],
      "metadata": {
        "colab": {
          "base_uri": "https://localhost:8080/"
        },
        "id": "XEh9slE9gHGy",
        "outputId": "fc9cb9a1-2a26-4440-ef8a-f3c6c9087128"
      },
      "cell_type": "code",
      "outputs": [
        {
          "output_type": "stream",
          "name": "stdout",
          "text": [
            "Downloading , 371432 bytes compressed\n",
            "[==================================================] 371432 bytes downloaded\n",
            "Downloaded and uncompressed: \n",
            "Data source import complete.\n"
          ]
        }
      ],
      "execution_count": 1
    },
    {
      "source": [
        "## **Predicting Housing Prices for regions in the USA.**\n",
        "\n",
        "The data contains the following columns:\n",
        "\n",
        "* 'Avg. Area Income': Avg. Income of residents of the city house is located in.\n",
        "* 'Avg. Area House Age': Avg Age of Houses in same city\n",
        "* 'Avg. Area Number of Rooms': Avg Number of Rooms for Houses in same city\n",
        "* 'Avg. Area Number of Bedrooms': Avg Number of Bedrooms for Houses in same city\n",
        "* 'Area Population': Population of city house is located in\n",
        "* 'Price': Price that the house sold at\n",
        "* 'Address': Address for the house"
      ],
      "metadata": {
        "_uuid": "40228e8478617fa52cb27da39bedbc4d2eea8831",
        "_cell_guid": "39b08738-02bc-4f7f-bfa5-f0e8afb94037",
        "id": "dmU937x4gHG1"
      },
      "cell_type": "markdown"
    },
    {
      "outputs": [],
      "execution_count": null,
      "source": [
        "# importing librarires\n",
        "import numpy as np # linear algebra\n",
        "import pandas as pd # data processing, CSV file I/O (e.g. pd.read_csv)\n",
        "import matplotlib.pyplot as plt\n",
        "import seaborn as sns\n",
        "sns.set_style('whitegrid')\n",
        "%matplotlib inline\n",
        "#sns.set_style('whitegrid')\n"
      ],
      "metadata": {
        "_uuid": "a41cbd7e7ee45d1859b75c11db843b2ca1ce06ef",
        "collapsed": true,
        "_cell_guid": "4afddcca-ebe2-4b81-9bcf-700841c8cd9c",
        "id": "3NHPgtIWgHG2"
      },
      "cell_type": "code"
    },
    {
      "outputs": [],
      "execution_count": null,
      "source": [
        "# loading csv data to dataframe\n",
        "USA_Housing = pd.read_csv('../input/USA_Housing.csv')\n",
        "# checking out the Data\n",
        "USA_Housing.head()\n"
      ],
      "metadata": {
        "_uuid": "df7d07be0d1051cdf43415d65fb1f4b13bac86c6",
        "_cell_guid": "499a4b39-04ab-4fae-82e9-51255ee1cf8b",
        "id": "ZG6szLh3gHG2"
      },
      "cell_type": "code"
    },
    {
      "outputs": [],
      "execution_count": null,
      "source": [
        "#checking columns and total records\n",
        "USA_Housing.info()"
      ],
      "metadata": {
        "_uuid": "9c566b7f3356b0d66f0b9c6213f38b42b343cb9f",
        "_cell_guid": "8ce3aa20-a38a-4eec-8c49-f737d0de3b76",
        "id": "6ZAjhSQogHG2"
      },
      "cell_type": "code"
    },
    {
      "source": [
        " **Generating descriptive statistics that summarize the central tendency, dispersion and shape of a dataset’s distribution, excluding NaN value.\n",
        "**"
      ],
      "metadata": {
        "_uuid": "655d6deb9b354bb3997090ae09418b85609884fb",
        "_cell_guid": "87810e67-48af-4eda-b000-6ba92b68340b",
        "id": "zpLaLDUogHG3"
      },
      "cell_type": "markdown"
    },
    {
      "outputs": [],
      "execution_count": null,
      "source": [
        "USA_Housing.describe()"
      ],
      "metadata": {
        "_uuid": "a18b840ef25937bb6a8b93d0b04aff9e9dff8b9b",
        "_cell_guid": "d76c0b52-60a6-463a-82e8-5b37a6b12505",
        "id": "F8yMLyQJgHG3"
      },
      "cell_type": "code"
    },
    {
      "source": [
        "## **Exploratory Data Analysis**\n",
        "\n",
        "\n",
        "** Visualizing the Entire Data using pairplot **\n",
        "\n",
        "Exploring types of relationship across the entire dataset"
      ],
      "metadata": {
        "_uuid": "2b29b661fedaf0996cb6611f1b9266ca2acf0c0a",
        "_cell_guid": "6794ac1f-314c-4ea0-8ba5-846af088f796",
        "id": "NAMNtorrgHG3"
      },
      "cell_type": "markdown"
    },
    {
      "outputs": [],
      "execution_count": null,
      "source": [
        "sns.pairplot(USA_Housing)"
      ],
      "metadata": {
        "_uuid": "cbbb789ff8f4008140eae0c7c4adb1a44040115a",
        "_cell_guid": "6f974993-1d64-4609-8bd3-1706803ce65f",
        "id": "d4R9AdcdgHG4"
      },
      "cell_type": "code"
    },
    {
      "source": [
        "## **Distribution of Housing Price Across USA**"
      ],
      "metadata": {
        "_uuid": "acb72d9982bd0cfc576ef98e0d3f3ed0b0714f50",
        "_cell_guid": "bddc4904-7efb-4908-918b-d6fbc121f61c",
        "id": "a-FEBckdgHG4"
      },
      "cell_type": "markdown"
    },
    {
      "outputs": [],
      "execution_count": null,
      "source": [
        "sns.distplot(USA_Housing['Price'],hist_kws=dict(edgecolor=\"black\", linewidth=1),color='Blue')"
      ],
      "metadata": {
        "_uuid": "b4422e7a9dea5637f81896db69f9fbf05477783a",
        "scrolled": false,
        "_cell_guid": "2490599a-6697-450d-9023-de9cf8984580",
        "id": "rQycsK9ugHG4"
      },
      "cell_type": "code"
    },
    {
      "outputs": [],
      "execution_count": null,
      "source": [
        "#Displaying correlation among all the columns\n",
        "USA_Housing.corr()"
      ],
      "metadata": {
        "_uuid": "8e0e0981fd053bf585ac03835c54a66f56717c24",
        "_cell_guid": "7d3b7184-c402-466e-838c-1aee80e44a97",
        "id": "jZuNIEbigHG4"
      },
      "cell_type": "code"
    },
    {
      "source": [
        "## **Displaying correlation among all the columns using Heat Map**\n"
      ],
      "metadata": {
        "_uuid": "aefd7c0cb13223fdecf7f596772fd4bc3616b8ad",
        "_cell_guid": "0a9e9e3d-706e-4344-ba63-5062a9d2381d",
        "id": "KYntxirOgHG5"
      },
      "cell_type": "markdown"
    },
    {
      "outputs": [],
      "execution_count": null,
      "source": [
        "sns.heatmap(USA_Housing.corr(), annot = True)"
      ],
      "metadata": {
        "_uuid": "0982f0877b4101fdf1e577161025d1bd3960ab41",
        "_cell_guid": "5eaf9095-f4a1-4d4b-bf9f-59ca3b99e89f",
        "id": "2PVZ24h0gHG5"
      },
      "cell_type": "code"
    },
    {
      "source": [
        "## **Training a Linear Regression Model**\n",
        "\n",
        "[](http://)We will need to first split up our data into an X array that contains the features to train on, and a y array with the target variable, in this case the Price column. We will toss out the Address column because it only has text info that the linear regression model can't use.\n",
        "\n",
        "### X and y arrays"
      ],
      "metadata": {
        "_uuid": "449bcb976ab031fda3834e0c0b9a7a0370377df8",
        "_cell_guid": "9be82a37-6e10-4c6a-acb1-f4c08b2ecb4a",
        "id": "sfrLlJcGgHG5"
      },
      "cell_type": "markdown"
    },
    {
      "outputs": [],
      "execution_count": null,
      "source": [
        "#Getting all Coulmn names\n",
        "USA_Housing.columns"
      ],
      "metadata": {
        "_uuid": "5bb4d56e492fbf7c04fda4edb22891c3d53f3559",
        "_cell_guid": "9947efd6-52a1-43f0-bd11-b7b993c1f60e",
        "id": "YeoJg97kgHG5"
      },
      "cell_type": "code"
    },
    {
      "outputs": [],
      "execution_count": null,
      "source": [
        "# Columns as Features\n",
        "X = USA_Housing[['Avg. Area Income', 'Avg. Area House Age', 'Avg. Area Number of Rooms',\n",
        "       'Avg. Area Number of Bedrooms', 'Area Population']]"
      ],
      "metadata": {
        "_uuid": "f8215a5800c6fadc3e1ddfdc2ea57675bb21c6fc",
        "collapsed": true,
        "_cell_guid": "633cf4c6-9adc-44d0-8698-84c7c6113551",
        "id": "1xlnetYCgHG5"
      },
      "cell_type": "code"
    },
    {
      "outputs": [],
      "execution_count": null,
      "source": [
        "# Price is my Target Variable, what we trying to predict\n",
        "y = USA_Housing['Price']"
      ],
      "metadata": {
        "_uuid": "4173965bca7c30b5e9d47b2b467c31b42d3da03b",
        "collapsed": true,
        "_cell_guid": "71a57750-199a-405f-9839-e5499059f1cf",
        "id": "u7XEr4cSgHG5"
      },
      "cell_type": "code"
    },
    {
      "source": [
        "## **Training the Model**\n",
        "\n",
        "Now that we've explored the data a bit, let's go ahead and split the data into training and testing sets.\n"
      ],
      "metadata": {
        "_uuid": "50907f122ca73e22537f17474350b2a6d45ed173",
        "_cell_guid": "2e3608c6-f1a5-4842-94f7-055a62a76860",
        "id": "Q8yjbuDvgHG5"
      },
      "cell_type": "markdown"
    },
    {
      "outputs": [],
      "execution_count": null,
      "source": [
        "from sklearn.model_selection import train_test_split\n",
        "X_train, X_test, y_train, y_test = train_test_split(X, y, test_size=0.4, random_state=101)"
      ],
      "metadata": {
        "_uuid": "32ab8878f1023ee5069d2b02669101bf06dfc35b",
        "collapsed": true,
        "_cell_guid": "517f5fa6-0b7c-4dac-9ee4-af2d3f00e8a4",
        "id": "VKXIKRNrgHG5"
      },
      "cell_type": "code"
    },
    {
      "outputs": [],
      "execution_count": null,
      "source": [
        "#importing the Linear Regression Algorithm\n",
        "from sklearn.linear_model import LinearRegression"
      ],
      "metadata": {
        "_uuid": "3ab04a9368f6500bedec7c0325a38c46d137a007",
        "collapsed": true,
        "_cell_guid": "e605abf7-6166-465e-a9dc-a9d96b2c3012",
        "id": "J-F513CGgHG5"
      },
      "cell_type": "code"
    },
    {
      "outputs": [],
      "execution_count": null,
      "source": [
        "#creating LinearRegression Object\n",
        "lm = LinearRegression()"
      ],
      "metadata": {
        "_uuid": "8519b12790d7944488c5e0e7efd6c192b6ee2e47",
        "collapsed": true,
        "_cell_guid": "36099f3b-4b4f-4a38-a3f2-e1b9000f505c",
        "id": "Earq86HJgHG6"
      },
      "cell_type": "code"
    },
    {
      "outputs": [],
      "execution_count": null,
      "source": [
        "#Training the Data Model\n",
        "lm.fit(X_train, y_train)"
      ],
      "metadata": {
        "_uuid": "be32db6f168500931a2472a8a124a4f05170ad44",
        "_cell_guid": "e6b9fddf-67c4-4cc9-9387-0d92418bb1c8",
        "id": "EAqGr02wgHG6"
      },
      "cell_type": "code"
    },
    {
      "source": [
        " ## **Model Evaluation**\n",
        "\n",
        "\n",
        "Let's evaluate the model by checking out it's coefficients"
      ],
      "metadata": {
        "_uuid": "1c1d9d1bd6278f877243b6b4cd50f57c233d955a",
        "_cell_guid": "b998c215-f4cd-4702-ad9b-d84fef38dcb8",
        "id": "NM0s9Lj8gHG6"
      },
      "cell_type": "markdown"
    },
    {
      "outputs": [],
      "execution_count": null,
      "source": [
        "#Displaying the Intercept\n",
        "print(lm.intercept_)"
      ],
      "metadata": {
        "_uuid": "53e58674f9aa4fdcc3045ce94d05d76e84f42ffa",
        "_cell_guid": "bfb731df-105a-45de-8cab-81fa8246711a",
        "id": "znwFdUBBgHG6"
      },
      "cell_type": "code"
    },
    {
      "outputs": [],
      "execution_count": null,
      "source": [
        "coeff_df = pd.DataFrame(lm.coef_, X.columns, columns=['Coefficient'])\n",
        "coeff_df"
      ],
      "metadata": {
        "_uuid": "7c18eb3337b7d3b783ea0d24852197bbc74321f2",
        "_cell_guid": "5b39c8b9-242f-4fb7-aacf-db6e6b089383",
        "id": "zwqC9OFqgHG6"
      },
      "cell_type": "code"
    },
    {
      "source": [
        "**Interpreting the coefficients:\n",
        "**\n",
        "- Holding all other features fixed, a 1 unit increase in **Avg. Area Income** is associated with an **increase of \\$21.52 **.\n",
        "- Holding all other features fixed, a 1 unit increase in **Avg. Area House Age** is associated with an **increase of \\$164883.28 **.\n",
        "- Holding all other features fixed, a 1 unit increase in **Avg. Area Number of Rooms** is associated with an **increase of \\$122368.67 **.\n",
        "- Holding all other features fixed, a 1 unit increase in **Avg. Area Number of Bedrooms** is associated with an **increase of \\$2233.80 **.\n",
        "- Holding all other features fixed, a 1 unit increase in **Area Population** is associated with an **increase of \\$15.15 **.\n"
      ],
      "metadata": {
        "_uuid": "c1aebaee6b43d1a52f95cef159636bed5af0d761",
        "collapsed": true,
        "_cell_guid": "2068ce9e-711f-4d7f-a4d8-7c9ad15227da",
        "id": "nT8zQNYFgHG6"
      },
      "cell_type": "markdown"
    },
    {
      "source": [
        "## **Predictions from our Model**\n",
        "\n",
        "Let's grab predictions off our test set and see how well it did!"
      ],
      "metadata": {
        "_uuid": "311d8ce9f893ba490d63fec7e7ab72fe8197ee57",
        "collapsed": true,
        "_cell_guid": "154749cb-5fc3-41f2-ba42-3b8d00c9383c",
        "id": "4Nq2xqWVgHG6"
      },
      "cell_type": "markdown"
    },
    {
      "outputs": [],
      "execution_count": null,
      "source": [
        "predictions = lm.predict(X_test)"
      ],
      "metadata": {
        "_uuid": "a8122dab1ca74f007caeec4a2f8bc874e90da602",
        "collapsed": true,
        "_cell_guid": "70353e22-4691-431f-b79e-def0e162ba69",
        "id": "AcJRKWvkgHG6"
      },
      "cell_type": "code"
    },
    {
      "outputs": [],
      "execution_count": null,
      "source": [
        "plt.scatter(y_test, predictions, edgecolor='black')"
      ],
      "metadata": {
        "_uuid": "b61d694bbc4da82f2976d07d48f6fd0f6b239332",
        "scrolled": true,
        "_cell_guid": "d7569b31-8d67-473c-b6e1-bc12e8693de9",
        "id": "D7FFL2n4gHG6"
      },
      "cell_type": "code"
    },
    {
      "source": [
        "## **Residual Histogram**\n",
        "\n",
        "**Ploting a histogram of the residuals and making sure it looks normally distributed. **"
      ],
      "metadata": {
        "_uuid": "823b56a976fd6bee5e91558dd79a75927b1ee9c9",
        "_cell_guid": "bcfa7a0f-b686-4354-a30c-d528e5d399bd",
        "id": "q88k8l8OgHG6"
      },
      "cell_type": "markdown"
    },
    {
      "outputs": [],
      "execution_count": null,
      "source": [
        "sns.distplot((y_test - predictions), bins = 50, hist_kws=dict(edgecolor=\"black\", linewidth=1),color='Blue')"
      ],
      "metadata": {
        "_uuid": "c20291641abe589d074fa8469a92efb87fdf9aca",
        "_cell_guid": "fdf61a9d-604b-4d7d-8592-b4a2b23e3aab",
        "id": "ErNsA8HlgHG6"
      },
      "cell_type": "code"
    },
    {
      "source": [
        "** Calculating the Mean Absolute Error, Mean Squared Error, and the Root Mean Squared Error **\n",
        "\n",
        "- **MAE** is the easiest to understand, because it's the average error.\n",
        "- **MSE** is more popular than MAE, because MSE \"punishes\" larger errors, which tends to be useful in the real world.\n",
        "- **RMSE** is even more popular than MSE, because RMSE is interpretable in the \"y\" units.\n",
        "\n",
        "All of these are **loss functions**, because we want to minimize them."
      ],
      "metadata": {
        "_uuid": "7a90d53d89145b7e3234192dd1721221e27eef0f",
        "_cell_guid": "4b1d4254-1bf6-40f2-b542-a83d7af37a7e",
        "id": "tnMlHXbMgHG7"
      },
      "cell_type": "markdown"
    },
    {
      "outputs": [],
      "execution_count": null,
      "source": [
        "from sklearn import metrics"
      ],
      "metadata": {
        "_uuid": "437c31ff994f4306ea482af4cd4e7d3249e4d481",
        "collapsed": true,
        "_cell_guid": "22c82573-8927-452e-81fd-d05a08ce8ab3",
        "id": "IrVroWUngHG7"
      },
      "cell_type": "code"
    },
    {
      "outputs": [],
      "execution_count": null,
      "source": [
        "print('MAE:', metrics.mean_absolute_error(y_test, predictions))\n",
        "print('MSE:', metrics.mean_squared_error(y_test, predictions))\n",
        "print('RMSE:', np.sqrt(metrics.mean_squared_error(y_test, predictions)))"
      ],
      "metadata": {
        "_uuid": "18fb337c53bab99260f860d682f191752adfb0b0",
        "_cell_guid": "a9ab78ac-5e05-46bb-8cf3-4bd527634824",
        "id": "a82nmkUigHG7"
      },
      "cell_type": "code"
    },
    {
      "source": [],
      "metadata": {
        "_uuid": "91fa2c125e98240e23a9e6416d685b2ab15627aa",
        "_cell_guid": "e4aa252d-f12d-41aa-9211-3015f7121f44",
        "id": "P0tFhlGwgHG7"
      },
      "cell_type": "markdown"
    }
  ],
  "nbformat": 4
}